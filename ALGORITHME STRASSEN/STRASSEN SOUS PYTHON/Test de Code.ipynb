{
 "cells": [
  {
   "cell_type": "markdown",
   "id": "443c0442",
   "metadata": {},
   "source": [
    "# Test de L'algorithme Strassen"
   ]
  },
  {
   "cell_type": "code",
   "execution_count": 6,
   "id": "a40a282e",
   "metadata": {},
   "outputs": [],
   "source": [
    "#Importation du biblio et fichier du fonction\n",
    "from algoFct import *\n",
    "import numpy as np"
   ]
  },
  {
   "cell_type": "markdown",
   "id": "22e81ea7",
   "metadata": {},
   "source": [
    "Test avec Matrice de taille 7 * 7\n",
    "\n",
    "Creation de deux Matrices :"
   ]
  },
  {
   "cell_type": "code",
   "execution_count": 7,
   "id": "b116e5d7",
   "metadata": {},
   "outputs": [
    {
     "name": "stdout",
     "output_type": "stream",
     "text": [
      "La Matrice A :\n",
      "\n",
      "[[1 2 3 5 4 7 8]\n",
      " [0 4 6 7 8 1 2]\n",
      " [1 5 1 7 7 5 4]\n",
      " [0 8 4 6 2 1 5]\n",
      " [1 4 2 5 6 1 7]\n",
      " [0 0 4 1 7 5 4]\n",
      " [1 5 0 1 4 6 1]]\n"
     ]
    }
   ],
   "source": [
    "#Creation du premier Matrice : \n",
    "G = np.array(\n",
    "    [\n",
    "        [1, 2, 3, 5, 4, 7, 8],\n",
    "        [0, 4, 6, 7, 8, 1, 2],\n",
    "        [1, 5, 1, 7, 7, 5, 4],\n",
    "        [0, 8, 4, 6, 2, 1, 5],\n",
    "        [1, 4, 2, 5, 6, 1, 7],\n",
    "        [0, 0, 4, 1, 7, 5, 4],\n",
    "        [1, 5, 0, 1, 4, 6, 1],\n",
    "    ]\n",
    ")\n",
    "print(\"La Matrice A :\\n\")\n",
    "print(G)"
   ]
  },
  {
   "cell_type": "code",
   "execution_count": 8,
   "id": "cdc8d495",
   "metadata": {},
   "outputs": [
    {
     "name": "stdout",
     "output_type": "stream",
     "text": [
      "La Matrice B :\n",
      "\n",
      "[[5 2 1 7 6 2 7]\n",
      " [1 3 9 8 1 4 5]\n",
      " [9 3 4 5 2 4 1]\n",
      " [9 2 0 1 4 8 2]\n",
      " [5 1 2 3 8 6 1]\n",
      " [2 0 3 5 9 6 4]\n",
      " [0 9 7 2 6 1 0]]\n"
     ]
    }
   ],
   "source": [
    "#Creation du deuxieme Matrice :\n",
    "H = np.array(\n",
    "    [\n",
    "        [5, 2, 1, 7, 6, 2, 7],\n",
    "        [1, 3, 9, 8, 1, 4, 5],\n",
    "        [9, 3, 4, 5, 2, 4, 1],\n",
    "        [9, 2, 0, 1, 4, 8, 2],\n",
    "        [5, 1, 2, 3, 8, 6, 1],\n",
    "        [2, 0, 3, 5, 9, 6, 4],\n",
    "        [0, 9, 7, 2, 6, 1, 0],\n",
    "    ]\n",
    ")\n",
    "print(\"La Matrice B :\\n\")\n",
    "print(H)"
   ]
  },
  {
   "cell_type": "markdown",
   "id": "b0e2e444",
   "metadata": {},
   "source": [
    "Le produit de A et B avec L'Algorithme de Strassen :"
   ]
  },
  {
   "cell_type": "code",
   "execution_count": 9,
   "id": "00fc0e90",
   "metadata": {},
   "outputs": [
    {
     "name": "stdout",
     "output_type": "stream",
     "text": [
      "Le Produit A * B avec Algorithme Strassen : \n",
      "\n",
      "[[113. 103. 116. 106. 177. 136.  62.]\n",
      " [163.  70.  93. 102. 129. 152.  52.]\n",
      " [127.  77. 107. 113. 166. 158.  74.]\n",
      " [110.  95. 130. 111.  95. 119.  62.]\n",
      " [104.  99. 109.  91. 133. 115.  49.]\n",
      " [ 90.  57.  73.  75. 137. 100.  33.]\n",
      " [ 51.  32.  79.  92. 107.  91.  62.]]\n"
     ]
    }
   ],
   "source": [
    "#Le Produit A * B avec Algorithme Strassen :\n",
    "R = Strassen(G, H)\n",
    "\n",
    "print(\"Le Produit A * B avec Algorithme Strassen : \\n\")\n",
    "print(R)"
   ]
  },
  {
   "cell_type": "code",
   "execution_count": 10,
   "id": "5ba57cc2",
   "metadata": {},
   "outputs": [
    {
     "name": "stdout",
     "output_type": "stream",
     "text": [
      "Le Produit A*B avec Méthode Classique : \n",
      "\n",
      "[[113 103 116 106 177 136  62]\n",
      " [163  70  93 102 129 152  52]\n",
      " [127  77 107 113 166 158  74]\n",
      " [110  95 130 111  95 119  62]\n",
      " [104  99 109  91 133 115  49]\n",
      " [ 90  57  73  75 137 100  33]\n",
      " [ 51  32  79  92 107  91  62]]\n"
     ]
    }
   ],
   "source": [
    "#Juste Pour vérification :\n",
    "\n",
    "print(\"Le Produit A*B avec Méthode Classique : \\n\")\n",
    "print(np.dot(G, H))"
   ]
  },
  {
   "cell_type": "markdown",
   "id": "0d6721a3",
   "metadata": {},
   "source": [
    "©ez7mz"
   ]
  },
  {
   "cell_type": "markdown",
   "id": "985a7b7e",
   "metadata": {},
   "source": [
    "# Fin!"
   ]
  },
  {
   "cell_type": "code",
   "execution_count": null,
   "id": "83796259",
   "metadata": {},
   "outputs": [],
   "source": []
  }
 ],
 "metadata": {
  "kernelspec": {
   "display_name": "Python 3",
   "language": "python",
   "name": "python3"
  },
  "language_info": {
   "codemirror_mode": {
    "name": "ipython",
    "version": 3
   },
   "file_extension": ".py",
   "mimetype": "text/x-python",
   "name": "python",
   "nbconvert_exporter": "python",
   "pygments_lexer": "ipython3",
   "version": "3.8.8"
  }
 },
 "nbformat": 4,
 "nbformat_minor": 5
}
