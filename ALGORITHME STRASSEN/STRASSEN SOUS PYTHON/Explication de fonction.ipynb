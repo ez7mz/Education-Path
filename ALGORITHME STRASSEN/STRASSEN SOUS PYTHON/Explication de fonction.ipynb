{
 "cells": [
  {
   "cell_type": "markdown",
   "id": "3f650c62",
   "metadata": {},
   "source": [
    "# Function File:"
   ]
  },
  {
   "cell_type": "markdown",
   "id": "b5c706a3",
   "metadata": {},
   "source": [
    "#importation du bilio and File :"
   ]
  },
  {
   "cell_type": "code",
   "execution_count": 1,
   "id": "94060c2b",
   "metadata": {},
   "outputs": [],
   "source": [
    "import numpy as np\n",
    "import math"
   ]
  },
  {
   "cell_type": "markdown",
   "id": "d9746f13",
   "metadata": {},
   "source": [
    "Si la taille de la matrice est impaire les ligne et le colonnes des ZEROS doit apparitre dans la resultat\n",
    "Cette fonction est pour supprimer les zeros et returner la matrice produit que nous voulons"
   ]
  },
  {
   "cell_type": "code",
   "execution_count": 32,
   "id": "6a1002be",
   "metadata": {},
   "outputs": [],
   "source": [
    "def dlt_Zeros(Matrix, x, y):  # X : La taille de matrice et Y : la taille de matrice apres l'ajoute des zeros\n",
    "    if x == 3 or x == 5:\n",
    "        Matrix = Matrix[: y - int(math.log2(y) - 1), : y - int(math.log2(y) - 1)]\n",
    "    else:\n",
    "        i = int(math.log2(y) - 1)\n",
    "        # print(i)\n",
    "        Matrix = Matrix[\n",
    "            : (x + 1) - int(math.log2(x + 1) - i),\n",
    "            : (x + 1) - int(math.log2(x + 1) - i),\n",
    "        ]\n",
    "    return Matrix"
   ]
  },
  {
   "cell_type": "markdown",
   "id": "c157235e",
   "metadata": {},
   "source": [
    "#Cette fonction est pour deviser les Matrices A et B en sous_matrice de taille N/2 :"
   ]
  },
  {
   "cell_type": "code",
   "execution_count": 33,
   "id": "25f1f64b",
   "metadata": {},
   "outputs": [],
   "source": [
    "def split(Matrix):\n",
    "    n = len(Matrix)\n",
    "\n",
    "    return (\n",
    "        Matrix[: n // 2, : n // 2],\n",
    "        Matrix[: n // 2, n // 2 :],\n",
    "        Matrix[n // 2 :, : n // 2],\n",
    "        Matrix[n // 2 :, n // 2 :],\n",
    "    )"
   ]
  },
  {
   "cell_type": "markdown",
   "id": "fd9acc69",
   "metadata": {},
   "source": [
    "Test de fonction :"
   ]
  },
  {
   "cell_type": "code",
   "execution_count": 34,
   "id": "83adf987",
   "metadata": {},
   "outputs": [],
   "source": [
    "#Ceation du Matrices:\n",
    "A = np.array(\n",
    "    [\n",
    "        [1, 2, 3, 2],\n",
    "        [0, 4, 6, 2],\n",
    "        [1, 5, 1, 5],\n",
    "        [0, 4, 6, 2],\n",
    "    ]\n",
    ")\n"
   ]
  },
  {
   "cell_type": "markdown",
   "id": "958c3228",
   "metadata": {},
   "source": [
    "#Afichage du Matices :"
   ]
  },
  {
   "cell_type": "code",
   "execution_count": 35,
   "id": "47c90ed1",
   "metadata": {},
   "outputs": [
    {
     "name": "stdout",
     "output_type": "stream",
     "text": [
      "La Matrice A :\n",
      "\n",
      "[[1 2 3 2]\n",
      " [0 4 6 2]\n",
      " [1 5 1 5]\n",
      " [0 4 6 2]]\n"
     ]
    }
   ],
   "source": [
    "print(\"La Matrice A :\\n\")\n",
    "print(A)"
   ]
  },
  {
   "cell_type": "code",
   "execution_count": 36,
   "id": "904177ca",
   "metadata": {},
   "outputs": [
    {
     "name": "stdout",
     "output_type": "stream",
     "text": [
      "a =  [[1 2]\n",
      " [0 4]] \n",
      "\n",
      "b =  [[3 2]\n",
      " [6 2]] \n",
      "\n",
      "c =  [[1 5]\n",
      " [0 4]] \n",
      "\n",
      "d =  [[1 5]\n",
      " [6 2]] \n",
      "\n"
     ]
    }
   ],
   "source": [
    "a,b,c,d = split(A)\n",
    "\n",
    "print(\"a = \",a,\"\\n\")\n",
    "print(\"b = \",b,\"\\n\")\n",
    "print(\"c = \",c,\"\\n\")\n",
    "print(\"d = \",d,\"\\n\")"
   ]
  },
  {
   "cell_type": "markdown",
   "id": "c1186b81",
   "metadata": {},
   "source": [
    "#Cette fonction est pour ajouter des lignes et colonnes des ZEROS Si la taille de Matrice est impaire"
   ]
  },
  {
   "cell_type": "code",
   "execution_count": 37,
   "id": "3a1c7445",
   "metadata": {},
   "outputs": [],
   "source": [
    "def Add_Zeros(Matrix):\n",
    "    n = len(Matrix)\n",
    "    if n % 2 == 0:\n",
    "        return Matrix\n",
    "    else:\n",
    "        B = np.array([np.zeros(n)])\n",
    "        D = np.array([np.zeros(n + 1)])\n",
    "        c = np.concatenate((Matrix, B), axis=0)\n",
    "        c = np.concatenate((c, D.T), axis=1)\n",
    "        return c"
   ]
  },
  {
   "cell_type": "code",
   "execution_count": 38,
   "id": "d575f4c9",
   "metadata": {},
   "outputs": [],
   "source": [
    "#Test de la fonction :"
   ]
  },
  {
   "cell_type": "code",
   "execution_count": 39,
   "id": "5a126ffe",
   "metadata": {},
   "outputs": [
    {
     "name": "stdout",
     "output_type": "stream",
     "text": [
      "size de A :  (3, 3)\n"
     ]
    }
   ],
   "source": [
    "# Creation de deux Matrices\n",
    "A = np.array([[2, 3, 4], [6, 7, 8], [13, 14, 15]])\n",
    "print(\"size de A : \",A.shape)"
   ]
  },
  {
   "cell_type": "markdown",
   "id": "8e66e290",
   "metadata": {},
   "source": [
    "#La taille de matrice est impaire Alors en ajoute un ligne et un colonne des ZEROS,\n",
    "    On appliue la fonction Add_Zeros"
   ]
  },
  {
   "cell_type": "code",
   "execution_count": 40,
   "id": "af2cfda8",
   "metadata": {},
   "outputs": [
    {
     "name": "stdout",
     "output_type": "stream",
     "text": [
      "[[ 2.  3.  4.  0.]\n",
      " [ 6.  7.  8.  0.]\n",
      " [13. 14. 15.  0.]\n",
      " [ 0.  0.  0.  0.]]\n",
      "size de M :  (4, 4)\n"
     ]
    }
   ],
   "source": [
    "M = Add_Zeros(A)\n",
    "print(M)\n",
    "print(\"size de M : \",M.shape)"
   ]
  },
  {
   "cell_type": "markdown",
   "id": "20345eaa",
   "metadata": {},
   "source": [
    "# Code main de L'Algorithme"
   ]
  },
  {
   "cell_type": "code",
   "execution_count": 41,
   "id": "b25d953f",
   "metadata": {},
   "outputs": [],
   "source": [
    "def Strassen(A, B):\n",
    "    n = len(A)\n",
    "    k = len(A)\n",
    "    if n % 2 != 0:\n",
    "        A = Conv_size(A)\n",
    "        B = Conv_size(B)\n",
    "        n = n + 1\n",
    "\n",
    "    if n <= 2:\n",
    "        C = np.dot(A, B)\n",
    "    else:\n",
    "\n",
    "        A11, A12, A21, A22 = split(A)\n",
    "        B11, B12, B21, B22 = split(B)\n",
    "\n",
    "        M1 = Strassen(A11 + A22, B11 + B22)\n",
    "        M2 = Strassen(A21 + A22, B11)\n",
    "        M3 = Strassen(A11, B12 - B22)\n",
    "        M4 = Strassen(A22, B21 - B11)\n",
    "        M5 = Strassen(A11 + A12, B22)\n",
    "        M6 = Strassen(A21 - A11, B11 + B12)\n",
    "        M7 = Strassen(A12 - A22, B21 + B22)\n",
    "\n",
    "        C11 = M1 + M4 - M5 + M7\n",
    "        C12 = M3 + M5\n",
    "        C21 = M2 + M4\n",
    "        C22 = M1 - M2 + M3 + M6\n",
    "\n",
    "        C = np.vstack((np.hstack((C11, C12)), np.hstack((C21, C22))))\n",
    "        C = dlt_zero(C, k, n)\n",
    "    return C"
   ]
  },
  {
   "cell_type": "markdown",
   "id": "1f4617ea",
   "metadata": {},
   "source": [
    "# Implimentation de Code Bloc"
   ]
  },
  {
   "cell_type": "code",
   "execution_count": 42,
   "id": "10db04e6",
   "metadata": {},
   "outputs": [],
   "source": [
    "n = len(A) #prendre la taille du Matrice \n",
    "k = len(A) #affecter la tille du Matrice a un autre variable pour eviter la perdu du origin taille"
   ]
  },
  {
   "cell_type": "code",
   "execution_count": 43,
   "id": "78f8937e",
   "metadata": {},
   "outputs": [],
   "source": [
    "#Cette condtion et pour L'aoujte des Zeros Si la taille du Matrice est impaire\n",
    "if n % 2 != 0:\n",
    "    A = Add_Zeros(A)\n",
    "    B = Add_Zeros(B)\n",
    "    n = n + 1"
   ]
  },
  {
   "cell_type": "code",
   "execution_count": 44,
   "id": "9e9d751d",
   "metadata": {},
   "outputs": [],
   "source": [
    "#Cette condtion pour calculer Le produit des Matrice de Taille infrieur ou égale à 2\n",
    "#et aussi c'est la condition d'arréte pour la fonction écursive.\n",
    "if n <= 2:\n",
    "    C = np.dot(A, B)"
   ]
  },
  {
   "cell_type": "code",
   "execution_count": 45,
   "id": "ceefb7f2",
   "metadata": {},
   "outputs": [
    {
     "ename": "SyntaxError",
     "evalue": "invalid syntax (<ipython-input-45-41f9952ce691>, line 2)",
     "output_type": "error",
     "traceback": [
      "\u001b[1;36m  File \u001b[1;32m\"<ipython-input-45-41f9952ce691>\"\u001b[1;36m, line \u001b[1;32m2\u001b[0m\n\u001b[1;33m    else:\u001b[0m\n\u001b[1;37m    ^\u001b[0m\n\u001b[1;31mSyntaxError\u001b[0m\u001b[1;31m:\u001b[0m invalid syntax\n"
     ]
    }
   ],
   "source": [
    "#Le else C-à-d les Matrice de taille supérieur à 2 on appliue la méthode Strassen.\n",
    "else:\n",
    "\n",
    "        A11, A12, A21, A22 = split(A)\n",
    "        B11, B12, B21, B22 = split(B)\n",
    "\n",
    "        M1 = Strassen(A11 + A22, B11 + B22)\n",
    "        M2 = Strassen(A21 + A22, B11)\n",
    "        M3 = Strassen(A11, B12 - B22)\n",
    "        M4 = Strassen(A22, B21 - B11)\n",
    "        M5 = Strassen(A11 + A12, B22)\n",
    "        M6 = Strassen(A21 - A11, B11 + B12)\n",
    "        M7 = Strassen(A12 - A22, B21 + B22)\n",
    "\n",
    "        C11 = M1 + M4 - M5 + M7\n",
    "        C12 = M3 + M5\n",
    "        C21 = M2 + M4\n",
    "        C22 = M1 - M2 + M3 + M6\n",
    "\n",
    "        C = np.vstack((np.hstack((C11, C12)), np.hstack((C21, C22))))\n",
    "        C = dlt_zero(C, k, n)"
   ]
  },
  {
   "cell_type": "code",
   "execution_count": 46,
   "id": "9a811436",
   "metadata": {},
   "outputs": [],
   "source": [
    "# 1er Etape : diviser les Matrice\n",
    "A11, A12, A21, A22 = split(A)\n",
    "B11, B12, B21, B22 = split(B)"
   ]
  },
  {
   "cell_type": "code",
   "execution_count": 47,
   "id": "f1596bdf",
   "metadata": {},
   "outputs": [
    {
     "ename": "ValueError",
     "evalue": "shapes (2,2) and (3,3) not aligned: 2 (dim 1) != 3 (dim 0)",
     "output_type": "error",
     "traceback": [
      "\u001b[1;31m---------------------------------------------------------------------------\u001b[0m",
      "\u001b[1;31mValueError\u001b[0m                                Traceback (most recent call last)",
      "\u001b[1;32m<ipython-input-47-fbc4a2ac0715>\u001b[0m in \u001b[0;36m<module>\u001b[1;34m\u001b[0m\n\u001b[0;32m      1\u001b[0m \u001b[1;31m#2ème Etape : Appliquer le combinaision de Strassen avec manière récursive jusu'à la condition d'arrete est vérifier\u001b[0m\u001b[1;33m\u001b[0m\u001b[1;33m\u001b[0m\u001b[1;33m\u001b[0m\u001b[0m\n\u001b[1;32m----> 2\u001b[1;33m \u001b[0mM1\u001b[0m \u001b[1;33m=\u001b[0m \u001b[0mStrassen\u001b[0m\u001b[1;33m(\u001b[0m\u001b[0mA11\u001b[0m \u001b[1;33m+\u001b[0m \u001b[0mA22\u001b[0m\u001b[1;33m,\u001b[0m \u001b[0mB11\u001b[0m \u001b[1;33m+\u001b[0m \u001b[0mB22\u001b[0m\u001b[1;33m)\u001b[0m\u001b[1;33m\u001b[0m\u001b[1;33m\u001b[0m\u001b[0m\n\u001b[0m\u001b[0;32m      3\u001b[0m \u001b[0mM2\u001b[0m \u001b[1;33m=\u001b[0m \u001b[0mStrassen\u001b[0m\u001b[1;33m(\u001b[0m\u001b[0mA21\u001b[0m \u001b[1;33m+\u001b[0m \u001b[0mA22\u001b[0m\u001b[1;33m,\u001b[0m \u001b[0mB11\u001b[0m\u001b[1;33m)\u001b[0m\u001b[1;33m\u001b[0m\u001b[1;33m\u001b[0m\u001b[0m\n\u001b[0;32m      4\u001b[0m \u001b[0mM3\u001b[0m \u001b[1;33m=\u001b[0m \u001b[0mStrassen\u001b[0m\u001b[1;33m(\u001b[0m\u001b[0mA11\u001b[0m\u001b[1;33m,\u001b[0m \u001b[0mB12\u001b[0m \u001b[1;33m-\u001b[0m \u001b[0mB22\u001b[0m\u001b[1;33m)\u001b[0m\u001b[1;33m\u001b[0m\u001b[1;33m\u001b[0m\u001b[0m\n\u001b[0;32m      5\u001b[0m \u001b[0mM4\u001b[0m \u001b[1;33m=\u001b[0m \u001b[0mStrassen\u001b[0m\u001b[1;33m(\u001b[0m\u001b[0mA22\u001b[0m\u001b[1;33m,\u001b[0m \u001b[0mB21\u001b[0m \u001b[1;33m-\u001b[0m \u001b[0mB11\u001b[0m\u001b[1;33m)\u001b[0m\u001b[1;33m\u001b[0m\u001b[1;33m\u001b[0m\u001b[0m\n",
      "\u001b[1;32m<ipython-input-41-d590edc8e300>\u001b[0m in \u001b[0;36mStrassen\u001b[1;34m(A, B)\u001b[0m\n\u001b[0;32m      8\u001b[0m \u001b[1;33m\u001b[0m\u001b[0m\n\u001b[0;32m      9\u001b[0m     \u001b[1;32mif\u001b[0m \u001b[0mn\u001b[0m \u001b[1;33m<=\u001b[0m \u001b[1;36m2\u001b[0m\u001b[1;33m:\u001b[0m\u001b[1;33m\u001b[0m\u001b[1;33m\u001b[0m\u001b[0m\n\u001b[1;32m---> 10\u001b[1;33m         \u001b[0mC\u001b[0m \u001b[1;33m=\u001b[0m \u001b[0mnp\u001b[0m\u001b[1;33m.\u001b[0m\u001b[0mdot\u001b[0m\u001b[1;33m(\u001b[0m\u001b[0mA\u001b[0m\u001b[1;33m,\u001b[0m \u001b[0mB\u001b[0m\u001b[1;33m)\u001b[0m\u001b[1;33m\u001b[0m\u001b[1;33m\u001b[0m\u001b[0m\n\u001b[0m\u001b[0;32m     11\u001b[0m     \u001b[1;32melse\u001b[0m\u001b[1;33m:\u001b[0m\u001b[1;33m\u001b[0m\u001b[1;33m\u001b[0m\u001b[0m\n\u001b[0;32m     12\u001b[0m \u001b[1;33m\u001b[0m\u001b[0m\n",
      "\u001b[1;32m<__array_function__ internals>\u001b[0m in \u001b[0;36mdot\u001b[1;34m(*args, **kwargs)\u001b[0m\n",
      "\u001b[1;31mValueError\u001b[0m: shapes (2,2) and (3,3) not aligned: 2 (dim 1) != 3 (dim 0)"
     ]
    }
   ],
   "source": [
    "#2ème Etape : Appliquer le combinaision de Strassen avec manière récursive jusu'à la condition d'arrete est vérifier\n",
    "M1 = Strassen(A11 + A22, B11 + B22)\n",
    "M2 = Strassen(A21 + A22, B11)\n",
    "M3 = Strassen(A11, B12 - B22)\n",
    "M4 = Strassen(A22, B21 - B11)\n",
    "M5 = Strassen(A11 + A12, B22)\n",
    "M6 = Strassen(A21 - A11, B11 + B12)\n",
    "M7 = Strassen(A12 - A22, B21 + B22)\n",
    "\n",
    "C11 = M1 + M4 - M5 + M7\n",
    "C12 = M3 + M5\n",
    "C21 = M2 + M4\n",
    "C22 = M1 - M2 + M3 + M6"
   ]
  },
  {
   "cell_type": "code",
   "execution_count": 48,
   "id": "0a60390d",
   "metadata": {},
   "outputs": [
    {
     "ename": "NameError",
     "evalue": "name 'C11' is not defined",
     "output_type": "error",
     "traceback": [
      "\u001b[1;31m---------------------------------------------------------------------------\u001b[0m",
      "\u001b[1;31mNameError\u001b[0m                                 Traceback (most recent call last)",
      "\u001b[1;32m<ipython-input-48-e1f8bb3af696>\u001b[0m in \u001b[0;36m<module>\u001b[1;34m\u001b[0m\n\u001b[0;32m      2\u001b[0m \u001b[1;31m#hstack pour la fussione horizontal ET vstack pour la fussion vertical\u001b[0m\u001b[1;33m\u001b[0m\u001b[1;33m\u001b[0m\u001b[1;33m\u001b[0m\u001b[0m\n\u001b[0;32m      3\u001b[0m \u001b[1;33m\u001b[0m\u001b[0m\n\u001b[1;32m----> 4\u001b[1;33m \u001b[0mC\u001b[0m \u001b[1;33m=\u001b[0m \u001b[0mnp\u001b[0m\u001b[1;33m.\u001b[0m\u001b[0mvstack\u001b[0m\u001b[1;33m(\u001b[0m\u001b[1;33m(\u001b[0m\u001b[0mnp\u001b[0m\u001b[1;33m.\u001b[0m\u001b[0mhstack\u001b[0m\u001b[1;33m(\u001b[0m\u001b[1;33m(\u001b[0m\u001b[0mC11\u001b[0m\u001b[1;33m,\u001b[0m \u001b[0mC12\u001b[0m\u001b[1;33m)\u001b[0m\u001b[1;33m)\u001b[0m\u001b[1;33m,\u001b[0m \u001b[0mnp\u001b[0m\u001b[1;33m.\u001b[0m\u001b[0mhstack\u001b[0m\u001b[1;33m(\u001b[0m\u001b[1;33m(\u001b[0m\u001b[0mC21\u001b[0m\u001b[1;33m,\u001b[0m \u001b[0mC22\u001b[0m\u001b[1;33m)\u001b[0m\u001b[1;33m)\u001b[0m\u001b[1;33m)\u001b[0m\u001b[1;33m)\u001b[0m\u001b[1;33m\u001b[0m\u001b[1;33m\u001b[0m\u001b[0m\n\u001b[0m\u001b[0;32m      5\u001b[0m \u001b[1;31m# en fussion C11 avec C12 et C21 avec C22 de manière Horizontal\u001b[0m\u001b[1;33m\u001b[0m\u001b[1;33m\u001b[0m\u001b[1;33m\u001b[0m\u001b[0m\n\u001b[0;32m      6\u001b[0m \u001b[1;31m#puis fait la fussion Vertical pour l'ensemble [C11 C12] Et [C21 C22]\u001b[0m\u001b[1;33m\u001b[0m\u001b[1;33m\u001b[0m\u001b[1;33m\u001b[0m\u001b[0m\n",
      "\u001b[1;31mNameError\u001b[0m: name 'C11' is not defined"
     ]
    }
   ],
   "source": [
    "#pour fusionner les C11, C12,C21 et C22 on utilise les fonction prédefini dans numpy avec (hstack et vstack)\n",
    "#hstack pour la fussione horizontal ET vstack pour la fussion vertical\n",
    "\n",
    "C = np.vstack((np.hstack((C11, C12)), np.hstack((C21, C22))))\n",
    "# en fussion C11 avec C12 et C21 avec C22 de manière Horizontal\n",
    "#puis fait la fussion Vertical pour l'ensemble [C11 C12] Et [C21 C22]"
   ]
  },
  {
   "cell_type": "code",
   "execution_count": 49,
   "id": "39f562f2",
   "metadata": {},
   "outputs": [],
   "source": [
    "#Enfin en supprime les Zeros dans La resultat avec la fonction dlt_Zeros\n",
    "C = dlt_zero(C, k, n)"
   ]
  },
  {
   "cell_type": "code",
   "execution_count": 50,
   "id": "0516b4b1",
   "metadata": {},
   "outputs": [
    {
     "ename": "SyntaxError",
     "evalue": "'return' outside function (<ipython-input-50-1ba25ab699c0>, line 2)",
     "output_type": "error",
     "traceback": [
      "\u001b[1;36m  File \u001b[1;32m\"<ipython-input-50-1ba25ab699c0>\"\u001b[1;36m, line \u001b[1;32m2\u001b[0m\n\u001b[1;33m    return C\u001b[0m\n\u001b[1;37m    ^\u001b[0m\n\u001b[1;31mSyntaxError\u001b[0m\u001b[1;31m:\u001b[0m 'return' outside function\n"
     ]
    }
   ],
   "source": [
    "#La return du fonction :\n",
    "return C"
   ]
  },
  {
   "cell_type": "markdown",
   "id": "ca5baeb6",
   "metadata": {},
   "source": [
    "# Fin"
   ]
  },
  {
   "cell_type": "markdown",
   "id": "897d78d0",
   "metadata": {},
   "source": [
    "©ez7mz"
   ]
  },
  {
   "cell_type": "code",
   "execution_count": null,
   "id": "45dca405",
   "metadata": {},
   "outputs": [],
   "source": []
  }
 ],
 "metadata": {
  "kernelspec": {
   "display_name": "Python 3",
   "language": "python",
   "name": "python3"
  },
  "language_info": {
   "codemirror_mode": {
    "name": "ipython",
    "version": 3
   },
   "file_extension": ".py",
   "mimetype": "text/x-python",
   "name": "python",
   "nbconvert_exporter": "python",
   "pygments_lexer": "ipython3",
   "version": "3.8.8"
  }
 },
 "nbformat": 4,
 "nbformat_minor": 5
}
