{
 "cells": [
  {
   "cell_type": "markdown",
   "id": "50c75b62",
   "metadata": {},
   "source": [
    "# <span style=\"color:blue\">*EXERCICE 1 :*</span>\n",
    "<p style=\"font-family: consolas, serif; font-size:11pt; font-style:italic\">\n",
    "    Dans ce exercice on va faire une resolution d'un systeme (S) non lineaire avec la methode de Newton <br>\n",
    "    la système concerner est la suivante:\n",
    "    $$\n",
    "    \\left\\{\\begin{array}{l}\n",
    "    16 x^{2}=\\left(x^{2}+1\\right)(x+y)^{2} \\\\\n",
    "    9 y^{2}=\\left(y^{2}+1\\right)(x+y)^{2}\n",
    "    \\end{array}\\right.\n",
    "    $$\n",
    "</p>"
   ]
  },
  {
   "cell_type": "markdown",
   "id": "a80700b8",
   "metadata": {},
   "source": [
    "<p style=\"font-family: consolas, serif; font-size:11pt; font-style:italic\">\n",
    "    La méthode de Newton se généralise naturellement au cas des systèmes d'équations non linéaires\n",
    "    de la manière suivante : on choisit $x^{(0)} \\in R^{n}$ et on utilise la formule d'itération <br>\n",
    "    <br>\n",
    "    $$\n",
    "    x^{(n+1)}=x^{(n)}-J_{f}\\left(x^{(n)}\\right)^{-1} f\\left(x^{(n)}\\right)\n",
    "    $$\n",
    "    <br>\n",
    "    où $J_{f}\\left(x^{(n)}\\right)^{-1}$ désigne l'inverse de la matrice jacobienne de $f$ évaluée en $x^{(n)}$.\n",
    "</p>"
   ]
  },
  {
   "cell_type": "markdown",
   "id": "d6e40293",
   "metadata": {},
   "source": [
    "<p style=\"font-family: consolas, serif; font-size:11pt; font-style:italic\">\n",
    "    Calculer l'itéré $n+1$ à partir de l'itéré $n$ en utilisant la formule nécessite\n",
    "    d'inverser la matrice $J_{f}\\left(x^{(n)}\\right)$. Or, calculer l'inverse d'une matrice peut s'avérer coûteux.\n",
    "    Par conséquent, nous ré-écrivons la formule d'itération sous la forme :<br>\n",
    "    $$\n",
    "    J_{f}\\left(x^{(n)}\\right)\\left(x^{(n+1)}-x^{(n)}\\right)=-f\\left(x^{(n)}\\right)\n",
    "    $$\n",
    "</p>"
   ]
  },
  {
   "cell_type": "markdown",
   "id": "5b09e18c",
   "metadata": {},
   "source": [
    "<br>\n",
    "<p style=\"font-family: consolas, serif; font-size:16pt; font-style:italic\">\n",
    "    ====================== Implementation du exercice sous Python ==================\n",
    "</p>"
   ]
  },
  {
   "cell_type": "markdown",
   "id": "dbb8979f",
   "metadata": {},
   "source": [
    "<p style=\"font-family: consolas, serif; font-size:14pt; font-style:italic\">\n",
    "    1- Definire les fonction :\n",
    "    $f_{1}(x, y), f_{2}(x, y), f_{1 x}^{\\prime}(x, y), f_{1 y}^{\\prime}(x, y), f_{2 x}^{\\prime}(x, y), f_{1 y}^{\\prime}(x, y)$\n",
    "    <br>\n",
    "</p>"
   ]
  },
  {
   "cell_type": "markdown",
   "id": "6ac6d340",
   "metadata": {},
   "source": [
    "<p style=\"font-family: consolas, serif; font-size:11pt; font-style:italic\">\n",
    "    1.1- fonction pour calculer la puissance mathematique\n",
    "</p>"
   ]
  },
  {
   "cell_type": "code",
   "execution_count": 1,
   "id": "6eda74e8",
   "metadata": {},
   "outputs": [],
   "source": [
    "def pow(x, y):\n",
    "    return x ** y"
   ]
  },
  {
   "cell_type": "markdown",
   "id": "3fe95166",
   "metadata": {},
   "source": [
    "<p style=\"font-family: consolas, serif; font-size:11pt; font-style:italic\">\n",
    "    1.1- fonction pour calculer la puissance mathematique\n",
    "</p>"
   ]
  },
  {
   "cell_type": "code",
   "execution_count": 2,
   "id": "73f25006",
   "metadata": {},
   "outputs": [],
   "source": [
    "# definition de la 1er fonctione du systeme\n",
    "def fonc1(x, y):\n",
    "\n",
    "    return (pow(x, 2) + 1) * (pow(x + y, 2)) - 16 * pow(x, 2)\n",
    "\n",
    "# definition de la 2eme fonctione du systeme\n",
    "def fonc2(x, y):\n",
    "\n",
    "    return (pow(y, 2) + 1) * (pow(x + y, 2)) - 9 * pow(y, 2)"
   ]
  },
  {
   "cell_type": "markdown",
   "id": "e6afc586",
   "metadata": {},
   "source": [
    "<p style=\"font-family: consolas, serif; font-size:11pt; font-style:italic\">\n",
    "    1.1- fonction pour calculer la puissance mathematique\n",
    "</p>"
   ]
  },
  {
   "cell_type": "code",
   "execution_count": 3,
   "id": "340755ad",
   "metadata": {},
   "outputs": [],
   "source": [
    "# definition de la la deriver de F1 par rapport a x\n",
    "def f1primX(x, y):\n",
    "\n",
    "    return (\n",
    "        4 * pow(x, 3) + 2 * x * pow(y, 2) + 6 * pow(x, 2) * y + 2 * x + 2 * y - 32 * x\n",
    "    )\n",
    "\n",
    "# definition de la la deriver de F1 par rapport a y\n",
    "def f1primY(x, y):\n",
    "\n",
    "    return (2 * pow(x, 2) * y) + (2 * pow(x, 3)) + 2 * y + 2 * x\n",
    "\n",
    "# definition de la la deriver de F2 par rapport a x\n",
    "def f2primX(x, y):\n",
    "\n",
    "    return (2 * x * pow(y, 2)) + (2 * pow(y, 3)) + 2 * x + 2 * y\n",
    "\n",
    "# definition de la la deriver de F2 par rapport a y\n",
    "def f2primY(x, y):\n",
    "\n",
    "    return (\n",
    "        (4 * pow(y, 3))\n",
    "        + (2 * y * pow(x, 2))\n",
    "        + (6 * pow(y, 2) * x)\n",
    "        + 2 * y\n",
    "        + 2 * x\n",
    "        - 18 * y\n",
    "    )"
   ]
  },
  {
   "cell_type": "markdown",
   "id": "e4913806",
   "metadata": {},
   "source": [
    "<p style=\"font-family: consolas, serif; font-size:14pt; font-style:italic\">\n",
    "    2- Definire les fonctions utiliser dans le CODE :\n",
    "    <br>\n",
    "</p>"
   ]
  },
  {
   "cell_type": "markdown",
   "id": "3f225339",
   "metadata": {},
   "source": [
    "<p style=\"font-family: consolas, serif; font-size:11pt; font-style:italic\">\n",
    "    2.1- Importation du bibliotheque :\n",
    "</p>"
   ]
  },
  {
   "cell_type": "code",
   "execution_count": 4,
   "id": "058c0412",
   "metadata": {},
   "outputs": [],
   "source": [
    "import numpy as np  # bibliotheque mathematique cava nous aidez dans la manupilation des Matrices\n",
    "import math         # bibliotheque mathematique contient les fonction ussiell\n",
    "import time         # pour la gestion du temps"
   ]
  },
  {
   "cell_type": "markdown",
   "id": "2adfeb16",
   "metadata": {},
   "source": [
    "<p style=\"font-family: consolas, serif; font-size:11pt; font-style:italic\">\n",
    "   2.2- Fonction pour calculée la vecteur $-f\\left(x^{(n)}\\right)$ :\n",
    "</p>"
   ]
  },
  {
   "cell_type": "code",
   "execution_count": 5,
   "id": "05648779",
   "metadata": {},
   "outputs": [],
   "source": [
    "def func_vect(x, y):\n",
    "\n",
    "    return [\n",
    "        (-1) * fonc1(x, y),\n",
    "        (-1) * fonc2(x, y),\n",
    "    ]"
   ]
  },
  {
   "cell_type": "markdown",
   "id": "cfeb2be9",
   "metadata": {},
   "source": [
    "<p style=\"font-family: consolas, serif; font-size:11pt; font-style:italic\">\n",
    "    2.3- Fonction pour calculer la Jacobienne $J_{f}\\left(x^{(n)}\\right)$ :\n",
    "</p>"
   ]
  },
  {
   "cell_type": "code",
   "execution_count": 6,
   "id": "8876e18e",
   "metadata": {},
   "outputs": [],
   "source": [
    "def Fjacobienne(x, y):\n",
    "    return np.array([[f1primX(x, y), f1primY(x, y)], [f2primX(x, y), f2primY(x, y)]])"
   ]
  },
  {
   "cell_type": "markdown",
   "id": "3e8d4d1a",
   "metadata": {},
   "source": [
    "<p style=\"font-family: consolas, serif; font-size:11pt; font-style:italic\">\n",
    "    2.4- Fonction pour la resolution d'un système lineaire avec la methode classique:\n",
    "</p>"
   ]
  },
  {
   "cell_type": "code",
   "execution_count": 7,
   "id": "a4fa548a",
   "metadata": {},
   "outputs": [],
   "source": [
    "def gauss(A, b):\n",
    "    return np.linalg.solve(A, b)"
   ]
  },
  {
   "cell_type": "markdown",
   "id": "ad479eff",
   "metadata": {},
   "source": [
    "<p style=\"font-family: consolas, serif; font-size:11pt; font-style:italic\">\n",
    "    2.5- Fonction pour calculer une iteration de Newton :\n",
    "</p>"
   ]
  },
  {
   "cell_type": "code",
   "execution_count": 8,
   "id": "652c2500",
   "metadata": {},
   "outputs": [],
   "source": [
    "def newton_method(Xinit):\n",
    "    \n",
    "    \"\"\"\n",
    "    Xinit : c'est la vecteur de iteration X(k)\n",
    "    jacobian : c'est lamtrice jacobienne associée aux système\n",
    "    F_Xn : c'est la vecteur -F(Xn)\n",
    "    Xnitr : c'est la vecteur X(k+1) de l'iteration suivante (valeur de return)\n",
    "    \"\"\"\n",
    "\n",
    "    Xi = Xinit[0]\n",
    "\n",
    "    Yi = Xinit[1]\n",
    "\n",
    "    jacobian = Fjacobienne(Xi, Yi)\n",
    "\n",
    "    F_Xn = func_vect(Xi, Yi)\n",
    "\n",
    "    Xnitr = gauss(jacobian, F_Xn) + Xinit\n",
    "\n",
    "    return Xnitr"
   ]
  },
  {
   "cell_type": "markdown",
   "id": "83ac68f9",
   "metadata": {},
   "source": [
    "<p style=\"font-family: consolas, serif; font-size:11pt; font-style:italic\">\n",
    "    2.6- Fonction pour calculer les  iterations de Newton jusqu'à la convergence:\n",
    "</p>"
   ]
  },
  {
   "cell_type": "code",
   "execution_count": 9,
   "id": "5669c38c",
   "metadata": {},
   "outputs": [],
   "source": [
    "def methode_newton_iterie(x_int, epsilon, maxitr=100):\n",
    "    \n",
    "    \"\"\"\n",
    "    x_int : c'est la vecteur de depart\n",
    "    epsilon : c'est la toléronce\n",
    "    maxitr : max iteration que la fonction va arrive\n",
    "    cntr : c'est un conteur conter la nombre d'iteration\n",
    "    old_x : c'est X a la iteration k\n",
    "    new_x : c'est X a la iteration k+1\n",
    "    diff : c'es la norm de ( X(k+1) - X(k)) pour tester la convergence\n",
    "    CV : c'est la solution X tq on a la convergence (valeur de return)\n",
    "    \"\"\"\n",
    "    cntr = 0\n",
    "\n",
    "    old_x = x_int\n",
    "    new_x = newton_method(x_int)\n",
    "    diff = np.linalg.norm(old_x - new_x)\n",
    "    print(f\"{old_x} FOR X0\")\n",
    "    while diff > epsilon or cntr > maxitr:\n",
    "        cntr += 1\n",
    "        new_x = newton_method(old_x)\n",
    "        diff = np.linalg.norm(new_x - old_x)\n",
    "        old_x = new_x\n",
    "        print(f\"iteration [{cntr}] : {old_x}\")\n",
    "        time.sleep(0.01)\n",
    "\n",
    "    CV = new_x\n",
    "    return CV"
   ]
  },
  {
   "cell_type": "markdown",
   "id": "8c4b08dd",
   "metadata": {},
   "source": [
    "<p style=\"font-family: consolas, serif; font-size:14pt; font-style:italic\">\n",
    "    3- Execution du CODE :\n",
    "    <br>\n",
    "</p>"
   ]
  },
  {
   "cell_type": "code",
   "execution_count": 10,
   "id": "07b96ced",
   "metadata": {},
   "outputs": [
    {
     "name": "stdout",
     "output_type": "stream",
     "text": [
      "[1, 1] FOR X0\n",
      "iteration [1] : [1.75 3.5 ]\n",
      "iteration [2] : [1.38068976 2.74339944]\n",
      "iteration [3] : [1.15426979 2.20643741]\n",
      "iteration [4] : [0.88280674 1.96925834]\n",
      "iteration [5] : [0.88400047 1.77223857]\n",
      "iteration [6] : [0.85775583 1.74766165]\n",
      "iteration [7] : [0.85721434 1.74607801]\n",
      "iteration [8] : [0.85721269 1.74607506]\n",
      "la solution converge vers : [0.85721269 1.74607506] avec un erreur de 0.0001\n"
     ]
    }
   ],
   "source": [
    "eps = 0.0001  # valeur de toléronce\n",
    "X0 = [1, 1]   # vecteur de départ\n",
    "print(f\"la solution converge vers : {methode_newton_iterie(X0, eps)} avec un erreur de {eps}\")"
   ]
  },
  {
   "cell_type": "markdown",
   "id": "2929bda0",
   "metadata": {},
   "source": [
    "<p style=\"font-family: consolas, serif; font-size:22pt; font-style:italic\">\n",
    "    <br>\n",
    "    &copy; ez7mz\n",
    "    <br>\n",
    "</p>"
   ]
  },
  {
   "cell_type": "markdown",
   "id": "f390cc3d",
   "metadata": {},
   "source": [
    "<p style=\"font-family: consolas, serif; font-size:22pt; font-style:italic\">\n",
    "    <br>\n",
    "    ! Fin\n",
    "    <br>\n",
    "</p>"
   ]
  },
  {
   "cell_type": "code",
   "execution_count": null,
   "id": "c5a99e41",
   "metadata": {},
   "outputs": [],
   "source": []
  }
 ],
 "metadata": {
  "kernelspec": {
   "display_name": "Python 3",
   "language": "python",
   "name": "python3"
  },
  "language_info": {
   "codemirror_mode": {
    "name": "ipython",
    "version": 3
   },
   "file_extension": ".py",
   "mimetype": "text/x-python",
   "name": "python",
   "nbconvert_exporter": "python",
   "pygments_lexer": "ipython3",
   "version": "3.8.8"
  }
 },
 "nbformat": 4,
 "nbformat_minor": 5
}
